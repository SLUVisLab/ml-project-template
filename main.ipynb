{
 "cells": [
  {
   "cell_type": "code",
   "execution_count": null,
   "metadata": {},
   "outputs": [],
   "source": [
    "# GOOGLE COLAB COMPATIBILITY\n",
    "from google.colab import drive\n",
    "drive.mount('/content/drive')\n",
    "\n",
    "PROJECT_DIR = \"/content/drive/My Drive/<YOUR_PROJECT_DIR>\"\n",
    "\n",
    "# Allows for importing modules from the project directory\n",
    "import sys\n",
    "sys.path.append(\".\")"
   ]
  },
  {
   "cell_type": "code",
   "execution_count": null,
   "metadata": {},
   "outputs": [],
   "source": [
    "# REMOTE DATA ACCESS\n",
    "from scripts.remote_data import mount_remote_data, unmount_remote_data\n",
    "\n",
    "mount_remote_data(\"data\", \"acarnahan1\", \"hopper.slu.edu\", \"/lab/vislab/DATA/xray_screws\")\n",
    "\n",
    "unmount_remote_data(\"data\")"
   ]
  },
  {
   "cell_type": "code",
   "execution_count": null,
   "metadata": {},
   "outputs": [],
   "source": [
    "from scripts.hello_world import print_hello"
   ]
  }
 ],
 "metadata": {
  "language_info": {
   "name": "python"
  }
 },
 "nbformat": 4,
 "nbformat_minor": 2
}
