{
 "cells": [
  {
   "cell_type": "code",
   "execution_count": 1,
   "metadata": {
    "colab": {
     "base_uri": "https://localhost:8080/"
    },
    "executionInfo": {
     "elapsed": 17503,
     "status": "ok",
     "timestamp": 1739469513542,
     "user": {
      "displayName": "Austin Carnahan",
      "userId": "07587377473313309239"
     },
     "user_tz": 360
    },
    "id": "IUtw6pDpA9qy",
    "outputId": "fa8b52b7-2d2b-4c54-8f7a-8238bb097196"
   },
   "outputs": [
    {
     "name": "stdout",
     "output_type": "stream",
     "text": [
      "Mounted at /content/drive\n",
      "✅ Project directory set to: /content/drive/My Drive/Code/ml-project-template\n",
      "🔄 Auto-reloading enabled for scripts/. Only modified scripts will be reloaded.\n"
     ]
    }
   ],
   "source": [
    "# GOOGLE COLAB COMPATIBILITY\n",
    "# Not Needed outside of COLAB!\n",
    "from google.colab import drive\n",
    "import os\n",
    "import sys\n",
    "\n",
    "# 🔹 Mount Google Drive (Must always be `/content/drive`)\n",
    "drive.mount('/content/drive')\n",
    "\n",
    "# 🔹 Define project directory relative to \"My Drive\"\n",
    "BASE_DIR = \"/content/drive/My Drive\"\n",
    "PROJECT_NAME = \"Code/ml-project-template\"\n",
    "PROJECT_DIR = os.path.join(BASE_DIR, PROJECT_NAME)  # Absolute path\n",
    "\n",
    "# 🔹 Change to the project directory\n",
    "os.chdir(PROJECT_DIR)\n",
    "\n",
    "# 🔹 Ensure project scripts are importable\n",
    "if PROJECT_DIR not in sys.path:\n",
    "    sys.path.append(PROJECT_DIR)\n",
    "\n",
    "print(f\"✅ Project directory set to: {PROJECT_DIR}\")\n",
    "\n",
    "# Autorelaod modules in scripts/ dir\n",
    "from scripts import autoreload"
   ]
  },
  {
   "cell_type": "code",
   "execution_count": 16,
   "metadata": {
    "colab": {
     "base_uri": "https://localhost:8080/"
    },
    "executionInfo": {
     "elapsed": 112,
     "status": "ok",
     "timestamp": 1739469566571,
     "user": {
      "displayName": "Austin Carnahan",
      "userId": "07587377473313309239"
     },
     "user_tz": 360
    },
    "id": "KJ1x3FD5A9q1",
    "outputId": "ecc4ab93-9a89-4324-e04a-8f1cbb801579"
   },
   "outputs": [],
   "source": [
    "# Import a module from the scripts directory\n",
    "from scripts.hello_world import print_hello"
   ]
  },
  {
   "cell_type": "code",
   "execution_count": 14,
   "metadata": {},
   "outputs": [
    {
     "name": "stdout",
     "output_type": "stream",
     "text": [
      "Hello, world! Again!\n"
     ]
    }
   ],
   "source": [
    "print_hello()"
   ]
  }
 ],
 "metadata": {
  "colab": {
   "provenance": []
  },
  "kernelspec": {
   "display_name": "Python 3 (ipykernel)",
   "language": "python",
   "name": "python3"
  },
  "language_info": {
   "codemirror_mode": {
    "name": "ipython",
    "version": 3
   },
   "file_extension": ".py",
   "mimetype": "text/x-python",
   "name": "python",
   "nbconvert_exporter": "python",
   "pygments_lexer": "ipython3",
   "version": "3.12.8"
  }
 },
 "nbformat": 4,
 "nbformat_minor": 4
}
